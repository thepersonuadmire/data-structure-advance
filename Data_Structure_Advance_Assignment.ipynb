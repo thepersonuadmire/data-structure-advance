{
  "nbformat": 4,
  "nbformat_minor": 0,
  "metadata": {
    "colab": {
      "provenance": [],
      "authorship_tag": "ABX9TyOkWLheEZUpvH9+rmJp/3og",
      "include_colab_link": true
    },
    "kernelspec": {
      "name": "python3",
      "display_name": "Python 3"
    },
    "language_info": {
      "name": "python"
    }
  },
  "cells": [
    {
      "cell_type": "markdown",
      "metadata": {
        "id": "view-in-github",
        "colab_type": "text"
      },
      "source": [
        "<a href=\"https://colab.research.google.com/github/thepersonuadmire/data-structure-advance/blob/main/Data_Structure_Advance_Assignment.ipynb\" target=\"_parent\"><img src=\"https://colab.research.google.com/assets/colab-badge.svg\" alt=\"Open In Colab\"/></a>"
      ]
    },
    {
      "cell_type": "markdown",
      "source": [
        "1.Write a code to reverse a string."
      ],
      "metadata": {
        "id": "0zaJEb0OSV3o"
      }
    },
    {
      "cell_type": "code",
      "source": [
        "def reverse_string(s):\n",
        "    return s[::-1]\n",
        "\n",
        "print(reverse_string(\"hello\"))"
      ],
      "metadata": {
        "id": "wijCz-GTSY1b"
      },
      "execution_count": null,
      "outputs": []
    },
    {
      "cell_type": "markdown",
      "source": [
        "2.Write a code to count the number of vowels in a string."
      ],
      "metadata": {
        "id": "aX0b4h46SolK"
      }
    },
    {
      "cell_type": "code",
      "source": [
        "def count_vowels(s):\n",
        "    vowels = \"aeiouAEIOU\"\n",
        "    return sum(1 for char in s if char in vowels)\n",
        "\n",
        "print(count_vowels(\"hello world\"))"
      ],
      "metadata": {
        "id": "dxof5PMZSsmF"
      },
      "execution_count": null,
      "outputs": []
    },
    {
      "cell_type": "markdown",
      "source": [
        "3.Write a code to check if a given string is a palindrome or not."
      ],
      "metadata": {
        "id": "6tyRHxoWSxLZ"
      }
    },
    {
      "cell_type": "code",
      "source": [
        "def is_palindrome(s):\n",
        "    return s == s[::-1]\n",
        "\n",
        "print(is_palindrome(\"radar\"))"
      ],
      "metadata": {
        "id": "YDyLeJERS0fe"
      },
      "execution_count": null,
      "outputs": []
    },
    {
      "cell_type": "markdown",
      "source": [
        "4.Write a code to check if two given strings are anagrams of each other."
      ],
      "metadata": {
        "id": "4Z_0T8wXS8A8"
      }
    },
    {
      "cell_type": "code",
      "source": [
        "def are_anagrams(s1, s2):\n",
        "    return sorted(s1) == sorted(s2)\n",
        "\n",
        "print(are_anagrams(\"listen\", \"silent\"))"
      ],
      "metadata": {
        "id": "lUS4CTPuS99e"
      },
      "execution_count": null,
      "outputs": []
    },
    {
      "cell_type": "markdown",
      "source": [
        "5.Write a code to find all occurrences of a given substring within another string."
      ],
      "metadata": {
        "id": "63hgHAboTB8E"
      }
    },
    {
      "cell_type": "code",
      "source": [
        "def find_substring_occurrences(s, sub):\n",
        "    return [i for i in range(len(s) - len(sub) + 1) if s[i:i+len(sub)] == sub]\n",
        "\n",
        "print(find_substring_occurrences(\"hello hello world\", \"hello\"))"
      ],
      "metadata": {
        "id": "A5-jkgZQTGPY"
      },
      "execution_count": null,
      "outputs": []
    },
    {
      "cell_type": "markdown",
      "source": [
        "6.Write a code to perform basic string compression using the counts of repeated characters."
      ],
      "metadata": {
        "id": "Sinxh8-lTJMc"
      }
    },
    {
      "cell_type": "code",
      "source": [
        "def compress_string(s):\n",
        "    compressed = []\n",
        "    count = 1\n",
        "    for i in range(1, len(s)):\n",
        "        if s[i] == s[i - 1]:\n",
        "            count += 1\n",
        "        else:\n",
        "            compressed.append(s[i - 1] + str(count))\n",
        "            count = 1\n",
        "    compressed.append(s[-1] + str(count))\n",
        "    return \"\".join(compressed) if len(compressed) < len(s) else s\n",
        "\n",
        "print(compress_string(\"aabcccccaaa\"))"
      ],
      "metadata": {
        "id": "022C7AMOTTFf"
      },
      "execution_count": null,
      "outputs": []
    },
    {
      "cell_type": "markdown",
      "source": [
        "7.Write a code to determine if a string has all unique characters."
      ],
      "metadata": {
        "id": "n_JmxbNxTfhS"
      }
    },
    {
      "cell_type": "code",
      "source": [
        "def has_unique_chars(s):\n",
        "    return len(set(s)) == len(s)\n",
        "\n",
        "print(has_unique_chars(\"abcdef\"))"
      ],
      "metadata": {
        "id": "1yCPhBC6Tjx7"
      },
      "execution_count": null,
      "outputs": []
    },
    {
      "cell_type": "markdown",
      "source": [
        "8.Write a code to convert a given string to uppercase or lowercase."
      ],
      "metadata": {
        "id": "tDno1YMlTnhC"
      }
    },
    {
      "cell_type": "code",
      "source": [
        "def convert_case(s, to_upper=True):\n",
        "    return s.upper() if to_upper else s.lower()\n",
        "\n",
        "print(convert_case(\"Hello\", to_upper=False))"
      ],
      "metadata": {
        "id": "gMSeVwUETqqK"
      },
      "execution_count": null,
      "outputs": []
    },
    {
      "cell_type": "markdown",
      "source": [
        "9.Write a code to count the number of words in a string."
      ],
      "metadata": {
        "id": "o5QqQ3bVTwKG"
      }
    },
    {
      "cell_type": "code",
      "source": [
        "def count_words(s):\n",
        "    return len(s.split())\n",
        "\n",
        "print(count_words(\"Hello world! This is a test.\"))"
      ],
      "metadata": {
        "id": "JIYluXv4Tzl5"
      },
      "execution_count": null,
      "outputs": []
    },
    {
      "cell_type": "markdown",
      "source": [
        "10.Write a code to concatenate two strings without using the + operator."
      ],
      "metadata": {
        "id": "cRxQ91YnT3HT"
      }
    },
    {
      "cell_type": "code",
      "source": [
        "def concatenate_strings(s1, s2):\n",
        "    return \"\".join([s1, s2])\n",
        "\n",
        "print(concatenate_strings(\"Hello\", \"World\"))"
      ],
      "metadata": {
        "id": "vIZb7ho6T6G3"
      },
      "execution_count": null,
      "outputs": []
    },
    {
      "cell_type": "markdown",
      "source": [
        "11.Write a code to remove all occurrences of a specific element from a list."
      ],
      "metadata": {
        "id": "FqEgaeUST_79"
      }
    },
    {
      "cell_type": "code",
      "source": [
        "def remove_element(lst, element):\n",
        "    return [x for x in lst if x != element]\n",
        "\n",
        "print(remove_element([1, 2, 3, 4, 2], 2))"
      ],
      "metadata": {
        "id": "CRU0MF3GUCdr"
      },
      "execution_count": null,
      "outputs": []
    },
    {
      "cell_type": "markdown",
      "source": [
        "12.Implement a code to find the second largest number in a given list of integers."
      ],
      "metadata": {
        "id": "Dhey04dWUG1v"
      }
    },
    {
      "cell_type": "code",
      "source": [
        "def second_largest(lst):\n",
        "    unique_numbers = list(set(lst))\n",
        "    unique_numbers.sort()\n",
        "    return unique_numbers[-2] if len(unique_numbers) >= 2 else None\n",
        "\n",
        "print(second_largest([10, 20, 4, 45, 99, 45]))"
      ],
      "metadata": {
        "id": "0XtpVw5LULTd"
      },
      "execution_count": null,
      "outputs": []
    },
    {
      "cell_type": "markdown",
      "source": [
        "13.Create a code to count the occurrences of each element in a list and return a dictionary with elements as keys and their counts as values."
      ],
      "metadata": {
        "id": "SfKOmyv9UQJB"
      }
    },
    {
      "cell_type": "code",
      "source": [
        "from collections import Counter\n",
        "\n",
        "def element_count(lst):\n",
        "    return dict(Counter(lst))\n",
        "\n",
        "print(element_count([1, 2, 2, 3, 3, 3]))"
      ],
      "metadata": {
        "id": "po6ZbbGuUT-X"
      },
      "execution_count": null,
      "outputs": []
    },
    {
      "cell_type": "markdown",
      "source": [
        "14.Write a code to reverse a list in-place without using any built-in reverse functions."
      ],
      "metadata": {
        "id": "NL0R1dHyUa1D"
      }
    },
    {
      "cell_type": "code",
      "source": [
        "def reverse_list(lst):\n",
        "    left, right = 0, len(lst) - 1\n",
        "    while left < right:\n",
        "        lst[left], lst[right] = lst[right], lst[left]\n",
        "        left += 1\n",
        "        right -= 1\n",
        "\n",
        "my_list = [1, 2, 3, 4, 5]\n",
        "reverse_list(my_list)\n",
        "print(my_list)"
      ],
      "metadata": {
        "id": "tVKx8XJgUeD8"
      },
      "execution_count": null,
      "outputs": []
    },
    {
      "cell_type": "markdown",
      "source": [
        "15.Implement a code to find and remove duplicates from a list while preserving the original order of elements."
      ],
      "metadata": {
        "id": "Dh1Fn8PgUpwZ"
      }
    },
    {
      "cell_type": "code",
      "source": [
        "def remove_duplicates(lst):\n",
        "    seen = set()\n",
        "    return [x for x in lst if not (x in seen or seen.add(x))]\n",
        "\n",
        "print(remove_duplicates([1, 2, 2, 3, 4, 3, 5]))"
      ],
      "metadata": {
        "id": "Fw8AZFaRUtiR"
      },
      "execution_count": null,
      "outputs": []
    },
    {
      "cell_type": "markdown",
      "source": [
        "16.Create a code to check if a given list is sorted (either in ascending or descending order) or not."
      ],
      "metadata": {
        "id": "SOaobaLSUyDZ"
      }
    },
    {
      "cell_type": "code",
      "source": [
        "def is_sorted(lst):\n",
        "    return lst == sorted(lst) or lst == sorted(lst, reverse=True)\n",
        "\n",
        "print(is_sorted([1, 2, 3]))"
      ],
      "metadata": {
        "id": "-3iD91yhU1XN"
      },
      "execution_count": null,
      "outputs": []
    },
    {
      "cell_type": "markdown",
      "source": [
        "17.Write a code to merge two sorted lists into a single sorted list."
      ],
      "metadata": {
        "id": "ypw7DhoMU5c3"
      }
    },
    {
      "cell_type": "code",
      "source": [
        "def merge_sorted_lists(lst1, lst2):\n",
        "    merged_list = []\n",
        "    i, j = 0, 0\n",
        "    while i < len(lst1) and j < len(lst2):\n",
        "        if lst1[i] < lst2[j]:\n",
        "            merged_list.append(lst1[i])\n",
        "            i += 1\n",
        "        else:\n",
        "            merged_list.append(lst2[j])\n",
        "            j += 1\n",
        "    merged_list.extend(lst1[i:])\n",
        "    merged_list.extend(lst2[j:])\n",
        "    return merged_list\n",
        "\n",
        "print(merge_sorted_lists([1, 3, 5], [2, 4, 6]))"
      ],
      "metadata": {
        "id": "m_tFfN1HU8Zn"
      },
      "execution_count": null,
      "outputs": []
    },
    {
      "cell_type": "markdown",
      "source": [
        "18.Implement a code to find the intersection of two given lists."
      ],
      "metadata": {
        "id": "xa10M0OzVC1A"
      }
    },
    {
      "cell_type": "code",
      "source": [
        "def intersection(lst1, lst2):\n",
        "    return list(set(lst1) & set(lst2))\n",
        "\n",
        "print(intersection([1, 2, 3], [2, 3, 4]))"
      ],
      "metadata": {
        "id": "NL27ptRtVGlO"
      },
      "execution_count": null,
      "outputs": []
    },
    {
      "cell_type": "markdown",
      "source": [
        "19.Create a code to find the union of two lists without duplicates."
      ],
      "metadata": {
        "id": "6Blafm_MVKtV"
      }
    },
    {
      "cell_type": "code",
      "source": [
        "def union(lst1, lst2):\n",
        "    return list(set(lst1) | set(lst2))\n",
        "\n",
        "print(union([1, 2, 3], [2, 3, 4, 5]))"
      ],
      "metadata": {
        "id": "Hub3khwqVOPI"
      },
      "execution_count": null,
      "outputs": []
    },
    {
      "cell_type": "markdown",
      "source": [
        "20.Write a code to shuffle a given list randomly without using any built-in shuffle functions."
      ],
      "metadata": {
        "id": "5RTT4bRKVRU4"
      }
    },
    {
      "cell_type": "code",
      "source": [
        "import random\n",
        "\n",
        "def shuffle_list(lst):\n",
        "    for i in range(len(lst) - 1, 0, -1):\n",
        "        j = random.randint(0, i)\n",
        "        lst[i], lst[j] = lst[j], lst[i]\n",
        "\n",
        "my_list = [1, 2, 3, 4, 5]\n",
        "shuffle_list(my_list)\n",
        "print(my_list)"
      ],
      "metadata": {
        "id": "FtHHxBl5VV16"
      },
      "execution_count": null,
      "outputs": []
    },
    {
      "cell_type": "markdown",
      "source": [
        "21.Write a code that takes two tuples as input and returns a new tuple containing elements that are common to both input tuples."
      ],
      "metadata": {
        "id": "S0eErOAVVba_"
      }
    },
    {
      "cell_type": "code",
      "source": [
        "def common_elements(t1, t2):\n",
        "    return tuple(set(t1) & set(t2))\n",
        "\n",
        "print(common_elements((1, 2, 3), (2, 3, 4)))"
      ],
      "metadata": {
        "id": "AjKjtY0oVftm"
      },
      "execution_count": null,
      "outputs": []
    },
    {
      "cell_type": "markdown",
      "source": [
        "22.Create a code that prompts the user to enter two sets of integers separated by commas. Then, print the intersection of these two sets."
      ],
      "metadata": {
        "id": "KomQn01tVjfB"
      }
    },
    {
      "cell_type": "code",
      "source": [
        "def intersection_of_sets():\n",
        "    set1 = set(map(int, input(\"Enter first set of numbers, separated by commas: \").split(',')))\n",
        "    set2 = set(map(int, input(\"Enter second set of numbers, separated by commas: \").split(',')))\n",
        "    print(\"Intersection:\", set1 & set2)\n",
        "\n",
        "intersection_of_sets()"
      ],
      "metadata": {
        "id": "zNUTtwNMVmbu"
      },
      "execution_count": null,
      "outputs": []
    },
    {
      "cell_type": "markdown",
      "source": [
        "23.Write a code to concatenate two tuples. The function should take two tuples as input and return a new tuple containing elements from both input tuples."
      ],
      "metadata": {
        "id": "z-qWSMaXVqHt"
      }
    },
    {
      "cell_type": "code",
      "source": [
        "def concatenate_tuples(t1, t2):\n",
        "    return t1 + t2\n",
        "\n",
        "print(concatenate_tuples((1, 2, 3), (4, 5, 6)))"
      ],
      "metadata": {
        "id": "n7U8pYZ9Vsym"
      },
      "execution_count": null,
      "outputs": []
    },
    {
      "cell_type": "markdown",
      "source": [
        "24.Develop a code that prompts the user to input two sets of strings. Then, print the elements that are present in the first set but not in the second set."
      ],
      "metadata": {
        "id": "ANZMbeNpVwZ2"
      }
    },
    {
      "cell_type": "code",
      "source": [
        "def difference_of_sets():\n",
        "    set1 = set(input(\"Enter elements of the first set, separated by spaces: \").split())\n",
        "    set2 = set(input(\"Enter elements of the second set, separated by spaces: \").split())\n",
        "    print(\"Elements in the first set but not in the second set:\", set1 - set2)\n",
        "\n",
        "difference_of_sets()"
      ],
      "metadata": {
        "id": "SRqYSLikV0iu"
      },
      "execution_count": null,
      "outputs": []
    },
    {
      "cell_type": "markdown",
      "source": [
        "25.Create a code that takes a tuple and two integers as input. The function should return a new tuple containing elements from the original tuple within the specified range of indices."
      ],
      "metadata": {
        "id": "EX0Xx6oxV7zc"
      }
    },
    {
      "cell_type": "code",
      "source": [
        "def slice_tuple(t, start, end):\n",
        "    return t[start:end]\n",
        "\n",
        "print(slice_tuple((1, 2, 3, 4, 5, 6), 2, 5))"
      ],
      "metadata": {
        "id": "RDDBAEk0V-uy"
      },
      "execution_count": null,
      "outputs": []
    },
    {
      "cell_type": "markdown",
      "source": [
        "26.Write a code that prompts the user to input two sets of characters. Then, print the union of these two sets."
      ],
      "metadata": {
        "id": "XGU3gCG0WCRi"
      }
    },
    {
      "cell_type": "code",
      "source": [
        "def union_of_sets():\n",
        "    set1 = set(input(\"Enter characters for the first set, separated by spaces: \").split())\n",
        "    set2 = set(input(\"Enter characters for the second set, separated by spaces: \").split())\n",
        "    print(\"Union of the two sets:\", set1 | set2)\n",
        "\n",
        "union_of_sets()"
      ],
      "metadata": {
        "id": "W7Gos_UPWGRL"
      },
      "execution_count": null,
      "outputs": []
    },
    {
      "cell_type": "markdown",
      "source": [
        "27.Develop a code that takes a tuple of integers as input. The function should return the maximum and minimum values from the tuple using tuple unpacking."
      ],
      "metadata": {
        "id": "AMnRpBwSWMCk"
      }
    },
    {
      "cell_type": "code",
      "source": [
        "def max_and_min(t):\n",
        "    return max(t), min(t)\n",
        "\n",
        "print(max_and_min((1, 3, 5, 2, 4, 6)))"
      ],
      "metadata": {
        "id": "eQbr-3jZWPf_"
      },
      "execution_count": null,
      "outputs": []
    },
    {
      "cell_type": "markdown",
      "source": [
        "28.Create a code that defines two sets of integers. Then, print the union, intersection, and difference of these two sets."
      ],
      "metadata": {
        "id": "c68g9QWrWTID"
      }
    },
    {
      "cell_type": "code",
      "source": [
        "def set_operations():\n",
        "    set1 = {1, 2, 3, 4}\n",
        "    set2 = {3, 4, 5, 6}\n",
        "    print(\"Union:\", set1 | set2)\n",
        "    print(\"Intersection:\", set1 & set2)\n",
        "    print(\"Difference (set1 - set2):\", set1 - set2)\n",
        "\n",
        "set_operations()"
      ],
      "metadata": {
        "id": "uniV884MWWrJ"
      },
      "execution_count": null,
      "outputs": []
    },
    {
      "cell_type": "markdown",
      "source": [
        "29.Write a code that takes a tuple and an element as input. The function should return the count of occurrences of the given element in the tuple."
      ],
      "metadata": {
        "id": "NL2j8mLsWalW"
      }
    },
    {
      "cell_type": "code",
      "source": [
        "def count_element(t, element):\n",
        "    return t.count(element)\n",
        "\n",
        "print(count_element((1, 2, 3, 2, 4, 2), 2))"
      ],
      "metadata": {
        "id": "zqiZ52VXWei-"
      },
      "execution_count": null,
      "outputs": []
    },
    {
      "cell_type": "markdown",
      "source": [
        "30.Develop a code that prompts the user to input two sets of strings. Then, print the symmetric difference of these two sets."
      ],
      "metadata": {
        "id": "7pFQ-nmLWh6U"
      }
    },
    {
      "cell_type": "code",
      "source": [
        "def symmetric_difference_of_sets():\n",
        "    set1 = set(input(\"Enter elements of the first set, separated by spaces: \").split())\n",
        "    set2 = set(input(\"Enter elements of the second set, separated by spaces: \").split())\n",
        "    print(\"Symmetric difference of the two sets:\", set1 ^ set2)\n",
        "\n",
        "symmetric_difference_of_sets()"
      ],
      "metadata": {
        "id": "00uQ4ryOWlHr"
      },
      "execution_count": null,
      "outputs": []
    },
    {
      "cell_type": "markdown",
      "source": [
        "31.Write a code that takes a list of words as input and returns a dictionary where the keys are unique words and the values are the frequencies of those words in the input list."
      ],
      "metadata": {
        "id": "wyJzsxfMWrXa"
      }
    },
    {
      "cell_type": "code",
      "source": [
        "def word_frequencies(words):\n",
        "    freq = {}\n",
        "    for word in words:\n",
        "        freq[word] = freq.get(word, 0) + 1\n",
        "    return freq\n",
        "\n",
        "print(word_frequencies([\"apple\", \"banana\", \"apple\", \"orange\", \"banana\", \"apple\"]))"
      ],
      "metadata": {
        "id": "oIdKD6uUWu1Y"
      },
      "execution_count": null,
      "outputs": []
    },
    {
      "cell_type": "markdown",
      "source": [
        "32.Write a code that takes two dictionaries as input and merges them into a single dictionary. If there are common keys, the values should be added together."
      ],
      "metadata": {
        "id": "Toq8lJm1WzZI"
      }
    },
    {
      "cell_type": "code",
      "source": [
        "def merge_dictionaries(d1, d2):\n",
        "    merged = d1.copy()\n",
        "    for key, value in d2.items():\n",
        "        if key in merged:\n",
        "            merged[key] += value\n",
        "        else:\n",
        "            merged[key] = value\n",
        "    return merged\n",
        "\n",
        "print(merge_dictionaries({'a': 1, 'b': 2}, {'b': 3, 'c': 4}))"
      ],
      "metadata": {
        "id": "UrNJz04QW7s_"
      },
      "execution_count": null,
      "outputs": []
    },
    {
      "cell_type": "markdown",
      "source": [
        "33.Write a code to access a value in a nested dictionary. The function should take the dictionary and a list of keys as input, and return the corresponding value. If any of the keys do not exist in the dictionary, the function should return None."
      ],
      "metadata": {
        "id": "4ulWTFXKW9Yt"
      }
    },
    {
      "cell_type": "code",
      "source": [
        "def access_nested_value(d, keys):\n",
        "    for key in keys:\n",
        "        if key in d:\n",
        "            d = d[key]\n",
        "        else:\n",
        "            return None\n",
        "    return d\n",
        "\n",
        "nested_dict = {'a': {'b': {'c': 42}}}\n",
        "print(access_nested_value(nested_dict, ['a', 'b', 'c']))"
      ],
      "metadata": {
        "id": "yRNo5VokXAXK"
      },
      "execution_count": null,
      "outputs": []
    },
    {
      "cell_type": "markdown",
      "source": [
        "34.Write a code that takes a dictionary as input and returns a sorted version of it based on the values. You can choose whether to sort in ascending or descending order."
      ],
      "metadata": {
        "id": "rKYiY3LyXEoy"
      }
    },
    {
      "cell_type": "code",
      "source": [
        "def sort_dictionary_by_values(d, ascending=True):\n",
        "    return dict(sorted(d.items(), key=lambda item: item[1], reverse=not ascending))\n",
        "\n",
        "print(sort_dictionary_by_values({'a': 3, 'b': 1, 'c': 2}, ascending=True))"
      ],
      "metadata": {
        "id": "WnM0vs-1XHS2"
      },
      "execution_count": null,
      "outputs": []
    },
    {
      "cell_type": "markdown",
      "source": [
        "35.Write a code that inverts a dictionary, swapping keys and values. Ensure that the inverted dictionary correctly handles cases where multiple keys have the same value by storing the keys as a list in the inverted dictionary."
      ],
      "metadata": {
        "id": "LUR24PvxXLVG"
      }
    },
    {
      "cell_type": "code",
      "source": [
        "def invert_dictionary(d):\n",
        "    inverted = {}\n",
        "    for key, value in d.items():\n",
        "        if value in inverted:\n",
        "            inverted[value].append(key)\n",
        "        else:\n",
        "            inverted[value] = [key]\n",
        "    return inverted\n",
        "\n",
        "print(invert_dictionary({'a': 1, 'b': 2, 'c': 1}))"
      ],
      "metadata": {
        "id": "aqWklinEXOHK"
      },
      "execution_count": null,
      "outputs": []
    }
  ]
}